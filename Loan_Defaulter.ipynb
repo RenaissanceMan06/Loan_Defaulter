{
 "cells": [
  {
   "cell_type": "markdown",
   "metadata": {
    "collapsed": true,
    "pycharm": {
     "name": "#%% md\n"
    }
   },
   "source": [
    "\n",
    "## Libraries"
   ]
  },
  {
   "cell_type": "code",
   "execution_count": 104,
   "metadata": {
    "pycharm": {
     "name": "#%%\n"
    }
   },
   "outputs": [],
   "source": [
    "import pandas as pd\n",
    "import seaborn as sns\n",
    "import missingno as msno\n",
    "import matplotlib.pyplot as plt\n",
    "plt.style.use('ggplot')\n",
    "from sklearn import preprocessing\n",
    "from sklearn.metrics import f1_score\n",
    "from sklearn.preprocessing import StandardScaler\n",
    "from sklearn.metrics import confusion_matrix\n",
    "from sklearn.model_selection import train_test_split\n",
    "from sklearn.metrics import plot_confusion_matrix\n",
    "from sklearn.metrics import classification_report\n",
    "from imblearn.over_sampling import RandomOverSampler\n",
    "from sklearn.naive_bayes import GaussianNB\n",
    "from sklearn.linear_model import LogisticRegression\n",
    "from sklearn import metrics\n",
    "from sklearn.dummy import DummyClassifier"
   ]
  },
  {
   "cell_type": "code",
   "execution_count": null,
   "metadata": {
    "pycharm": {
     "name": "#%%\n",
     "is_executing": true
    }
   },
   "outputs": [],
   "source": [
    "df = pd.read_csv('application_data.csv')"
   ]
  },
  {
   "cell_type": "markdown",
   "metadata": {
    "pycharm": {
     "name": "#%% md\n"
    }
   },
   "source": [
    "### Data"
   ]
  },
  {
   "cell_type": "code",
   "execution_count": null,
   "metadata": {
    "pycharm": {
     "name": "#%%\n",
     "is_executing": true
    }
   },
   "outputs": [],
   "source": [
    "print(df)\n",
    "\n",
    "print('\\n')\n",
    "\n",
    "print('Dataset Dimension: ', end='')\n",
    "print(df.shape)"
   ]
  },
  {
   "cell_type": "markdown",
   "metadata": {},
   "source": [
    "## Columns"
   ]
  },
  {
   "cell_type": "code",
   "execution_count": null,
   "metadata": {
    "pycharm": {
     "name": "#%%\n",
     "is_executing": true
    }
   },
   "outputs": [],
   "source": [
    "print(df.columns.to_list())"
   ]
  },
  {
   "cell_type": "markdown",
   "metadata": {
    "pycharm": {
     "name": "#%% md\n"
    }
   },
   "source": [
    "# Exploratory Data Analysis"
   ]
  },
  {
   "cell_type": "markdown",
   "metadata": {
    "pycharm": {
     "name": "#%% md\n"
    }
   },
   "source": [
    "### Missing Values"
   ]
  },
  {
   "cell_type": "code",
   "execution_count": null,
   "metadata": {
    "pycharm": {
     "name": "#%%\n",
     "is_executing": true
    }
   },
   "outputs": [],
   "source": [
    "fig, ax = plt.subplots(figsize=(16,14))\n",
    "(1 - df.isnull().mean()).abs().plot.bar(ax=ax, color='cadetblue', alpha=0.9)\n",
    "plt.title('Missing Values', fontsize=16,fontfamily='serif', fontweight='bold')\n",
    "plt.ylabel('Percentage of Non-missing Values', fontsize=20, fontfamily='serif')\n",
    "plt.tight_layout()\n",
    "plt.show()"
   ]
  },
  {
   "cell_type": "code",
   "execution_count": null,
   "outputs": [],
   "source": [
    "print('Missing Values Count: ')\n",
    "print('\\n')\n",
    "print(df.isnull().sum())"
   ],
   "metadata": {
    "collapsed": false,
    "pycharm": {
     "name": "#%%\n",
     "is_executing": true
    }
   }
  },
  {
   "cell_type": "markdown",
   "metadata": {
    "pycharm": {
     "name": "#%% md\n"
    }
   },
   "source": [
    "### Default Summary"
   ]
  },
  {
   "cell_type": "code",
   "execution_count": null,
   "metadata": {
    "pycharm": {
     "name": "#%%\n",
     "is_executing": true
    }
   },
   "outputs": [],
   "source": [
    "plt.figure(figsize=(8,6))\n",
    "sns.countplot(x='TARGET', data=df, color=\"palevioletred\", alpha=0.5)\n",
    "plt.xlabel('Target', fontsize=16, fontfamily='serif', fontweight='bold')\n",
    "plt.legend(['Good Standing = 0'\n",
    "           '    Defaulted = 1'])\n",
    "text_1 = '282686'\n",
    "text_2 = '24825'\n",
    "plt.text(0.0,0.0, text_1, horizontalalignment='center', verticalalignment='bottom',fontsize=16, fontfamily='serif')\n",
    "plt.text(0.98,-550.0, text_2, horizontalalignment='center', verticalalignment='bottom',fontsize=16, fontfamily='serif')\n",
    "plt.title('Loan Defaulter', fontsize=16, fontfamily='serif')\n",
    "plt.tight_layout()\n",
    "plt.show()\n",
    "\n",
    "print('Target Summary: ')\n",
    "print(df['TARGET'].value_counts())"
   ]
  },
  {
   "cell_type": "markdown",
   "source": [
    "# Financial Products"
   ],
   "metadata": {
    "collapsed": false,
    "pycharm": {
     "name": "#%% md\n"
    }
   }
  },
  {
   "cell_type": "markdown",
   "source": [
    "### Cash Loans"
   ],
   "metadata": {
    "collapsed": false,
    "pycharm": {
     "name": "#%% md\n"
    }
   }
  },
  {
   "cell_type": "code",
   "execution_count": null,
   "outputs": [],
   "source": [
    "loan = df['TARGET'].groupby(df['NAME_CONTRACT_TYPE'])\n",
    "\n",
    "cash = loan.get_group('Cash loans').value_counts()\n",
    "revolving = loan.get_group('Revolving loans').value_counts()\n",
    "\n",
    "\n",
    "plt.figure(figsize=(8,6))\n",
    "cash.plot(kind='bar', label='0 = Good Standing', color='palevioletred',alpha=0.3)\n",
    "cash.plot(kind='bar', label='1 = Defaulted', color='palevioletred',alpha=0.3)\n",
    "plt.xticks(rotation=0)\n",
    "text1='8.35% Defaulted'\n",
    "text2 = '91.65% Current'\n",
    "plt.text(.789, -5, text1, fontsize=13, fontfamily='serif', verticalalignment='bottom')\n",
    "plt.text(-.21, 16.1, text2, fontsize=13, fontfamily='serif', verticalalignment='bottom')\n",
    "plt.legend()\n",
    "plt.title('Cash Loans', fontsize=16, fontfamily='serif')\n",
    "plt.tight_layout()\n",
    "plt.show()\n",
    "\n",
    "print('Cash Loans: ')\n",
    "print(cash)"
   ],
   "metadata": {
    "collapsed": false,
    "pycharm": {
     "name": "#%%\n",
     "is_executing": true
    }
   }
  },
  {
   "cell_type": "markdown",
   "source": [
    "### Revolving Loans"
   ],
   "metadata": {
    "collapsed": false,
    "pycharm": {
     "name": "#%% md\n"
    }
   }
  },
  {
   "cell_type": "code",
   "execution_count": null,
   "outputs": [],
   "source": [
    "plt.figure(figsize=(8,6))\n",
    "revolving.plot(kind='bar', label='0 = Good Standing', color='palevioletred',alpha=0.3)\n",
    "revolving.plot(kind='bar', label='1 = Defaulted', color='palevioletred',alpha=0.3)\n",
    "plt.xticks(rotation=0)\n",
    "text='5.48% Defaulted'\n",
    "text_ = '94.52% Current'\n",
    "plt.text(.752, -5, text, fontsize=15, fontfamily='serif', verticalalignment='bottom')\n",
    "plt.text(-.241, -5, text_, fontsize=15, fontfamily='serif', verticalalignment='bottom')\n",
    "plt.legend()\n",
    "plt.title('Revolving Loans', fontsize=16, fontfamily='serif')\n",
    "plt.tight_layout()\n",
    "plt.show()\n",
    "\n",
    "print('Revolving Loans: ')\n",
    "print(revolving)"
   ],
   "metadata": {
    "collapsed": false,
    "pycharm": {
     "name": "#%%\n",
     "is_executing": true
    }
   }
  },
  {
   "cell_type": "markdown",
   "source": [
    "### Defaults vs Good Standing on Financial Products"
   ],
   "metadata": {
    "collapsed": false,
    "pycharm": {
     "name": "#%% md\n"
    }
   }
  },
  {
   "cell_type": "code",
   "execution_count": null,
   "outputs": [],
   "source": [
    "plt.figure(figsize=(10,8))\n",
    "df[['TARGET','NAME_CONTRACT_TYPE']].value_counts().plot(kind='bar', color=['skyblue', 'black'], alpha=0.5)\n",
    "plt.xticks(rotation=1)\n",
    "plt.title('Financial Products on Defaults and Good Standing', fontsize=16, fontfamily='serif')\n",
    "plt.xlabel('Financial Products', fontsize=16, fontfamily='serif')\n",
    "plt.tight_layout()\n",
    "plt.show()"
   ],
   "metadata": {
    "collapsed": false,
    "pycharm": {
     "name": "#%%\n",
     "is_executing": true
    }
   }
  },
  {
   "cell_type": "markdown",
   "source": [
    "# Consumers"
   ],
   "metadata": {
    "collapsed": false,
    "pycharm": {
     "name": "#%% md\n"
    }
   }
  },
  {
   "cell_type": "markdown",
   "metadata": {
    "pycharm": {
     "is_executing": true,
     "name": "#%% md\n"
    }
   },
   "source": [
    "### Total Consumers by Gender"
   ]
  },
  {
   "cell_type": "code",
   "execution_count": null,
   "metadata": {
    "pycharm": {
     "name": "#%%\n",
     "is_executing": true
    }
   },
   "outputs": [],
   "source": [
    "#Removing category XNA\n",
    "df['CODE_GENDER'] = df['CODE_GENDER'].astype('category')\n",
    "df['CODE_GENDER'] = df['CODE_GENDER'].cat.remove_categories('XNA')\n",
    "\n",
    "ftxt = '65.84%'\n",
    "mtxt = '34.17%'\n",
    "\n",
    "plt.figure(figsize=(8,6))\n",
    "df['CODE_GENDER'].value_counts().plot(kind='bar', color=['thistle', 'lightskyblue'], alpha=0.70)\n",
    "plt.text(-0.078,0.0, ftxt, fontsize=14)\n",
    "plt.text(0.920,0.0, mtxt, fontsize=14)\n",
    "plt.title('Consumers by Gender', fontsize=16, fontfamily='serif')\n",
    "plt.xticks(rotation=0)\n",
    "plt.tight_layout()\n",
    "plt.show()\n",
    "\n",
    "print('Gender Summary: ')\n",
    "print(df['CODE_GENDER'].value_counts())"
   ]
  },
  {
   "cell_type": "markdown",
   "metadata": {
    "pycharm": {
     "name": "#%% md\n"
    }
   },
   "source": [
    "### Default Summary by Gender\n",
    "#### [ 0 = Good Standing, 1 = Defaulted ]"
   ]
  },
  {
   "cell_type": "code",
   "execution_count": null,
   "metadata": {
    "pycharm": {
     "name": "#%%\n",
     "is_executing": true
    }
   },
   "outputs": [],
   "source": [
    "gender = df['TARGET'].groupby(df['CODE_GENDER'])\n",
    "\n",
    "female_code = gender.get_group('F')\n",
    "male_code = gender.get_group('M')\n",
    "\n",
    "default_gender = pd.DataFrame()\n",
    "default_gender['female'] = female_code.value_counts()\n",
    "default_gender['male'] = male_code.value_counts()"
   ]
  },
  {
   "cell_type": "code",
   "execution_count": null,
   "outputs": [],
   "source": [
    "plt.figure(figsize=(12,10))\n",
    "default_gender.plot(kind='bar', color=['thistle', 'lightskyblue'], alpha=0.7)\n",
    "plt.title('Default Summary by Gender', fontsize=16, fontfamily='serif')\n",
    "plt.xticks(rotation=0)\n",
    "plt.tight_layout()\n",
    "plt.show()\n",
    "\n",
    "print(default_gender)"
   ],
   "metadata": {
    "collapsed": false,
    "pycharm": {
     "name": "#%%\n",
     "is_executing": true
    }
   }
  },
  {
   "cell_type": "markdown",
   "metadata": {
    "pycharm": {
     "is_executing": true,
     "name": "#%% md\n"
    }
   },
   "source": [
    "# Correlation for Defaulting"
   ]
  },
  {
   "cell_type": "code",
   "execution_count": null,
   "outputs": [],
   "source": [
    "df_mx = df[['TARGET', 'AMT_INCOME_TOTAL', 'AMT_CREDIT', 'HOUR_APPR_PROCESS_START', 'REGION_RATING_CLIENT_W_CITY','CNT_FAM_MEMBERS', 'DAYS_EMPLOYED', 'NAME_EDUCATION_TYPE', 'NAME_FAMILY_STATUS', 'NAME_INCOME_TYPE', 'NAME_HOUSING_TYPE']]\n",
    "\n",
    "corr = df_mx.corr()\n",
    "\n",
    "cmap = sns.diverging_palette(230, 20, as_cmap=True)\n",
    "\n",
    "plt.figure(figsize=(12,8))\n",
    "sns.heatmap(corr, annot=True, alpha=0.8, cmap=cmap, vmin=-1, vmax=1)\n",
    "plt.title('Correlation for Defaulting', fontsize=16, fontfamily='serif')\n",
    "plt.tight_layout()\n",
    "plt.show()"
   ],
   "metadata": {
    "collapsed": false,
    "pycharm": {
     "name": "#%%\n",
     "is_executing": true
    }
   }
  },
  {
   "cell_type": "markdown",
   "source": [
    "# Creating Classification Model"
   ],
   "metadata": {
    "collapsed": false
   }
  },
  {
   "cell_type": "code",
   "execution_count": null,
   "outputs": [],
   "source": [
    "one_hot = preprocessing.LabelEncoder()\n",
    "df['NAME_EDUCATION_TYPE'] = one_hot.fit_transform(df['NAME_EDUCATION_TYPE'])\n",
    "df['NAME_FAMILY_STATUS'] = one_hot.fit_transform(df['NAME_FAMILY_STATUS'])\n",
    "df['NAME_INCOME_TYPE'] = one_hot.fit_transform(df['NAME_INCOME_TYPE'])\n",
    "df['NAME_HOUSING_TYPE'] = one_hot.fit_transform(df['NAME_HOUSING_TYPE'])\n",
    "\n",
    "X = df[['AMT_INCOME_TOTAL', 'AMT_CREDIT', 'HOUR_APPR_PROCESS_START', 'REGION_RATING_CLIENT_W_CITY','DAYS_EMPLOYED',\n",
    "        'NAME_EDUCATION_TYPE', 'NAME_FAMILY_STATUS', 'NAME_HOUSING_TYPE']]\n",
    "y = df['TARGET']"
   ],
   "metadata": {
    "collapsed": false,
    "pycharm": {
     "name": "#%%\n",
     "is_executing": true
    }
   }
  },
  {
   "cell_type": "code",
   "execution_count": null,
   "outputs": [],
   "source": [
    "ros = RandomOverSampler(random_state=1)\n",
    "x_ros, y_ros = ros.fit_resample(X, y)\n",
    "scaler = StandardScaler()\n",
    "scaler.fit(x_ros)\n",
    "scaled_x = scaler.transform(x_ros)"
   ],
   "metadata": {
    "collapsed": false,
    "pycharm": {
     "name": "#%%\n",
     "is_executing": true
    }
   }
  },
  {
   "cell_type": "code",
   "execution_count": null,
   "outputs": [],
   "source": [
    "x_train, x_test, y_train, y_test = train_test_split(scaled_x, y_ros, test_size=0.20, random_state=0,shuffle=True)"
   ],
   "metadata": {
    "collapsed": false,
    "pycharm": {
     "name": "#%%\n",
     "is_executing": true
    }
   }
  },
  {
   "cell_type": "markdown",
   "source": [
    "### Logistic Model"
   ],
   "metadata": {
    "collapsed": false,
    "pycharm": {
     "name": "#%% md\n",
     "is_executing": true
    }
   }
  },
  {
   "cell_type": "code",
   "execution_count": null,
   "outputs": [],
   "source": [
    "model = LogisticRegression(C=1, dual=False, fit_intercept=True, intercept_scaling=1, max_iter=100, n_jobs=1, penalty='l2',random_state=42, solver='liblinear')\n",
    "model.fit(x_train,y_train)\n",
    "\n",
    "model_predict = model.predict(x_test)\n",
    "print(confusion_matrix(y_test, model_predict))\n",
    "print(classification_report(y_test, model_predict))\n",
    "print('Logistic Regression Accuracy: ', model.score(x_test,y_test) *100, '%')"
   ],
   "metadata": {
    "collapsed": false,
    "pycharm": {
     "name": "#%%\n",
     "is_executing": true
    }
   }
  },
  {
   "cell_type": "markdown",
   "source": [
    "### Gaussian Model"
   ],
   "metadata": {
    "collapsed": false,
    "pycharm": {
     "name": "#%% md\n"
    }
   }
  },
  {
   "cell_type": "code",
   "execution_count": null,
   "outputs": [],
   "source": [
    "nb = GaussianNB(priors=None, var_smoothing=1e-09)\n",
    "nb.fit(x_train,y_train)\n",
    "model_predict2 = nb.predict(x_test)\n",
    "print(confusion_matrix(y_test, model_predict2))\n",
    "print(classification_report(y_test, model_predict2))\n",
    "print('Naive Bayes Accuracy: ', nb.score(x_test, y_test) *100, '%')"
   ],
   "metadata": {
    "collapsed": false,
    "pycharm": {
     "name": "#%%\n",
     "is_executing": true
    }
   }
  },
  {
   "cell_type": "markdown",
   "source": [
    "### Dummy Model"
   ],
   "metadata": {
    "collapsed": false,
    "pycharm": {
     "name": "#%% md\n"
    }
   }
  },
  {
   "cell_type": "code",
   "execution_count": null,
   "outputs": [],
   "source": [
    "dm = DummyClassifier(strategy='stratified', random_state=2)\n",
    "dm.fit(x_train, y_train)\n",
    "model_predict3 = dm.predict(x_test)\n",
    "print(confusion_matrix(y_test, model_predict3))\n",
    "print(classification_report(y_test, model_predict3))\n",
    "print('DummyClassifier Accuracy: ', dm.score(x_test, y_test)*100)"
   ],
   "metadata": {
    "collapsed": false,
    "pycharm": {
     "name": "#%%\n",
     "is_executing": true
    }
   }
  }
 ],
 "metadata": {
  "kernelspec": {
   "display_name": "Python 3",
   "language": "python",
   "name": "python3"
  },
  "language_info": {
   "codemirror_mode": {
    "name": "ipython",
    "version": 3
   },
   "file_extension": ".py",
   "mimetype": "text/x-python",
   "name": "python",
   "nbconvert_exporter": "python",
   "pygments_lexer": "ipython3",
   "version": "3.8.5"
  }
 },
 "nbformat": 4,
 "nbformat_minor": 1
}